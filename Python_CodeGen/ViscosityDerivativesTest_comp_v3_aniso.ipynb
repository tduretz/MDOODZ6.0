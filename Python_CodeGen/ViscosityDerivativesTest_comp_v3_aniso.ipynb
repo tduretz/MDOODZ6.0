{
 "cells": [
  {
   "cell_type": "code",
   "execution_count": 54,
   "source": [
    "%reset\n",
    "from sympy import *\n",
    "import numpy as np\n",
    "\n",
    "Txx, Tyy, Txy = symbols('Txx, Tyy, Txy ')\n",
    "Exx,Eyy,Exy   = symbols('Exx,Eyy,Exy')\n",
    "C_pwl, n_pwl  = symbols('C_pwl, n_pwl')\n",
    "C_lin, n_lin, m_lin  = symbols('C_lin, n_lin, m_lin')\n",
    "eta_0,eta_el  = symbols('eta_0,eta_el')\n",
    "dg = symbols('dg') # grain size\n",
    "\n",
    "# The new guys for anisotropy\n",
    "d0, d1, ani, two, a = symbols('d0, d1, ani, two, a')\n",
    "f_ani         = symbols('f_ani')\n",
    "\n",
    "Tzz      = -Txx-Tyy \n",
    "Ezz      = -Exx-Eyy \n",
    "\n",
    "Tii       = sqrt(1/2*(Txx**2+Tyy**2+Tzz**2) + a**2*Txy**2)\n",
    "Jii           = Tii**2\n",
    "Eii       = sqrt(1/2*(Exx**2+Eyy**2+Ezz**2) + a**2*Exy**2)\n",
    "\n",
    "\n",
    "# Gzz = symbols('Gzz')\n",
    "C_ANI    = Matrix([ [-d0, d0, two*d1], [d0, -d0, -two*d1], [d1, -d1, -two*(1/2-d0)]]) ##### !!! - sign in D33 -a0\n",
    "C_ISO    = Matrix([ [1, 0, 0], [0, 1, 0], [0, 0, two*1/2]])\n",
    "Dani     = 2* (C_ISO + C_ANI * ani)\n",
    "E        = Matrix([[Exx],[Eyy],[Exy]])\n",
    "Gij      = Matrix([ [1/2, 0, 0], [0, 1/2, 0], [0, 0, 1/two]]) * Dani*E\n",
    "Gxx, Gyy, Gxy = Gij[0], Gij[1], Gij[2]\n",
    "Gzz      = -Gxx-Gyy \n",
    "Gii       = sqrt(1/2*(Gxx**2+Gyy**2+Gzz**2) + a**2*Gxy**2)\n"
   ],
   "outputs": [],
   "metadata": {}
  },
  {
   "cell_type": "code",
   "execution_count": 57,
   "source": [
    "\n",
    "#---------------------- VISCO-ELASTIC VISCOSITY ----------------------#\n",
    "\n",
    "# 1. Viscosity expression as function of stress invariant\n",
    "eta_pwl       = f_ani**(n_pwl-1)*(2*C_pwl)**(-1)*Tii**(1-n_pwl)\n",
    "eta_lin       = f_ani**(n_lin-1)*(2*C_lin)**(-1)*Tii**(1-n_lin) * dg**(m_lin)\n",
    "eta_ve  = (eta_el**-1 + eta_pwl**-1 + eta_lin**-1)**-1\n",
    "eta_ve  = (eta_el**-1 + eta_pwl**-1 )**-1\n",
    "print('eta_ve = ' + octave_code(eta_ve.subs(eta_pwl,'eta_pwl').subs(f_ani,'f_ani')) + ';')\n",
    "# 2. Derivatives of viscosity w.r.t. strain rate components\n",
    "detadexx = symbols('detadexx')\n",
    "detadtxx = symbols('detadtxx')\n",
    "f        = detadexx - ( detadtxx * (2*eta_0 + 2*detadexx*Exx))\n",
    "detadexx = solve(f,detadexx)[0]\n",
    "display(detadexx)\n",
    "print('detadexx = ' + octave_code(detadexx.subs(1/2*Txx**2 + Txy**2*a**2 + 1/2*Tyy**2 + 1/2*Tzz**2,'Jii').subs(f_ani,'f_ani')) + ';')\n",
    "# 3. Derivatives of viscosity w.r.t. stress components\n",
    "detadtxx = eta_ve.diff(Txx)\n",
    "detadtyy = eta_ve.diff(Tyy)\n",
    "detadtxy = eta_ve.diff(Txy)\n",
    "detadtxx = detadtxx.subs(eta_ve,'eta_ve').subs(eta_ve,'eta_lin').subs(eta_ve,'eta_pwl').subs(1/2*Txx**2 + Txy**2*a**2 + 1/2*Tyy**2 + 1/2*Tzz**2,'Jii').subs(f_ani.diff(Txx),'dfanidTxx').subs(f_ani,'f_ani').simplify()\n",
    "detadtyy = detadtyy.subs(eta_ve,'eta_ve').subs(1/2*Txx**2 + Txy**2*a**2 + 1/2*Tyy**2 + 1/2*Tzz**2,'Jii').subs(f_ani.diff(Tyy),'dfanidTyy').subs(f_ani,'f_ani').simplify()\n",
    "detadtxy = detadtxy.subs(eta_ve,'eta_ve').subs(1/2*Txx**2 + Txy**2*a**2 + 1/2*Tyy**2 + 1/2*Tzz**2,'Jii').subs(f_ani.diff(Txy),'dfanidTxy').subs(f_ani,'f_ani').simplify()\n",
    "\n",
    "display(detadtxx)\n",
    "display(detadtyy)\n",
    "display(detadtxy)\n",
    "# for i in range(1):\n",
    "#     print('detadTxx = ' + ccode(detadtxx) + ';')\n",
    "#     print('detadTyy = ' + ccode(detadtyy) + ';')\n",
    "#     print('detadTxy = ' + ccode(detadtxy) + ';')\n",
    "for i in range(1):\n",
    "    print('detadTxx = ' + octave_code(detadtxx) + ';')\n",
    "    print('detadTyy = ' + octave_code(detadtyy) + ';')\n",
    "    print('detadTxy = ' + octave_code(detadtxy) + ';')\n"
   ],
   "outputs": [
    {
     "output_type": "stream",
     "name": "stdout",
     "text": [
      "eta_ve = 1./(2*C_pwl.*f_ani.^(1 - n_pwl).*(0.5*Txx.^2 + Txy.^2.*a.^2 + 0.5*Tyy.^2 + 0.5*(-Txx - Tyy).^2).^(n_pwl/2 - 1/2) + 1./eta_el);\n"
     ]
    },
    {
     "output_type": "display_data",
     "data": {
      "text/latex": [
       "$\\displaystyle - \\frac{2 detadtxx \\eta_{0}}{2 Exx detadtxx - 1}$"
      ],
      "text/plain": [
       "-2*detadtxx*eta_0/(2*Exx*detadtxx - 1)"
      ]
     },
     "metadata": {}
    },
    {
     "output_type": "stream",
     "name": "stdout",
     "text": [
      "detadexx = -2*detadtxx.*eta_0./(2*Exx.*detadtxx - 1);\n"
     ]
    },
    {
     "output_type": "display_data",
     "data": {
      "text/latex": [
       "$\\displaystyle - C_{pwl} Jii^{\\frac{n_{pwl}}{2} - \\frac{3}{2}} \\eta_{ve}^{2} f_{ani}^{1 - n_{pwl}} \\left(2.0 Txx + 1.0 Tyy\\right) \\left(n_{pwl} - 1\\right)$"
      ],
      "text/plain": [
       "-C_pwl*Jii**(n_pwl/2 - 3/2)*eta_ve**2*f_ani**(1 - n_pwl)*(2.0*Txx + 1.0*Tyy)*(n_pwl - 1)"
      ]
     },
     "metadata": {}
    },
    {
     "output_type": "display_data",
     "data": {
      "text/latex": [
       "$\\displaystyle - C_{pwl} Jii^{\\frac{n_{pwl}}{2} - \\frac{3}{2}} \\eta_{ve}^{2} f_{ani}^{1 - n_{pwl}} \\left(1.0 Txx + 2.0 Tyy\\right) \\left(n_{pwl} - 1\\right)$"
      ],
      "text/plain": [
       "-C_pwl*Jii**(n_pwl/2 - 3/2)*eta_ve**2*f_ani**(1 - n_pwl)*(1.0*Txx + 2.0*Tyy)*(n_pwl - 1)"
      ]
     },
     "metadata": {}
    },
    {
     "output_type": "display_data",
     "data": {
      "text/latex": [
       "$\\displaystyle - 2 C_{pwl} Jii^{\\frac{n_{pwl}}{2} - \\frac{3}{2}} Txy a^{2} \\eta_{ve}^{2} f_{ani}^{1 - n_{pwl}} \\left(n_{pwl} - 1\\right)$"
      ],
      "text/plain": [
       "-2*C_pwl*Jii**(n_pwl/2 - 3/2)*Txy*a**2*eta_ve**2*f_ani**(1 - n_pwl)*(n_pwl - 1)"
      ]
     },
     "metadata": {}
    },
    {
     "output_type": "stream",
     "name": "stdout",
     "text": [
      "detadTxx = -C_pwl.*Jii.^(n_pwl/2 - 3/2).*eta_ve.^2.*f_ani.^(1 - n_pwl).*(2.0*Txx + 1.0*Tyy).*(n_pwl - 1);\n",
      "detadTyy = -C_pwl.*Jii.^(n_pwl/2 - 3/2).*eta_ve.^2.*f_ani.^(1 - n_pwl).*(1.0*Txx + 2.0*Tyy).*(n_pwl - 1);\n",
      "detadTxy = -2*C_pwl.*Jii.^(n_pwl/2 - 3/2).*Txy.*a.^2.*eta_ve.^2.*f_ani.^(1 - n_pwl).*(n_pwl - 1);\n"
     ]
    }
   ],
   "metadata": {}
  },
  {
   "cell_type": "markdown",
   "source": [],
   "metadata": {}
  },
  {
   "cell_type": "code",
   "execution_count": 40,
   "source": [
    "f_ani     = Gii/Eii\n",
    "dfanidExx = f_ani.diff(Exx).subs(f_ani, 'f_ani').subs(Eii, 'Eii').subs(Gii, 'Gii').subs(Gxx,'Gxx').subs(Gyy,'Gyy').subs(Gxy,'Gxy').subs(Gzz,'Gzz')\n",
    "dfanidEyy = f_ani.diff(Eyy).subs(f_ani, 'f_ani').subs(Eii, 'Eii').subs(Gii, 'Gii').subs(Gxx,'Gxx').subs(Gyy,'Gyy').subs(Gxy,'Gxy').subs(Gzz,'Gzz')\n",
    "dfanidExy = f_ani.diff(Exy).subs(f_ani, 'f_ani').subs(Eii, 'Eii').subs(Gii, 'Gii').subs(Gxx,'Gxx').subs(Gyy,'Gyy').subs(Gxy,'Gxy').subs(Gzz,'Gzz')\n",
    "\n",
    "# display(dfanidExx.subs('f_ani',1.0).subs(ani,0.0).subs(d0,0.0).subs(d1,1.0).subs('Gxx',Exx).subs('Gii','Eii'))\n",
    "print('dfanidExx = ' + octave_code(dfanidExx) + ';')\n",
    "print('dfanidEyy = ' + octave_code(dfanidEyy) + ';')\n",
    "print('dfanidExy = ' + octave_code(dfanidExy) + ';')\n",
    "# display(f_ani.subs(Gii, 'Gii').subs(ani,0.0))\n"
   ],
   "outputs": [
    {
     "output_type": "stream",
     "name": "stdout",
     "text": [
      "dfanidExx = (0.5*Exx.*ani.*d0 + 0.5*Exx.*(-1.0*ani.*d0 + 1.0) + 0.5*Eyy.*ani.*d0 + 0.5*Eyy.*(-1.0*ani.*d0 + 1.0) + 0.25*Gxx.*(-2.0*ani.*d0 + 2.0) + 2*Gxy.*a.^2.*ani.*d1./two + 0.5*Gyy.*ani.*d0)./(Eii.*Gii) - 0.5*Exx.*f_ani./Eii.^2;\n",
      "dfanidEyy = (0.5*Exx.*ani.*d0 + 0.5*Exx.*(-1.0*ani.*d0 + 1.0) + 0.5*Eyy.*ani.*d0 + 0.5*Eyy.*(-1.0*ani.*d0 + 1.0) + 0.5*Gxx.*ani.*d0 - 2*Gxy.*a.^2.*ani.*d1./two + 0.25*Gyy.*(-2.0*ani.*d0 + 2.0))./(Eii.*Gii) - 0.5*Eyy.*f_ani./Eii.^2;\n",
      "dfanidExy = (0.5*Gxx.*ani.*d1.*two + Gxy.*a.^2.*(-2*ani.*two.*(0.5 - d0) + two)./two - 0.5*Gyy.*ani.*d1.*two)./(Eii.*Gii) - Exy.*a.^2.*f_ani./Eii.^2;\n"
     ]
    }
   ],
   "metadata": {}
  },
  {
   "cell_type": "code",
   "execution_count": 66,
   "source": [
    "# For grain size evolution one needs to make the viscosity of linear creep stress dependent\n",
    "df = Function('df')(Txx,Tyy,Txy) # grain size\n",
    "\n",
    "# 1. Viscosity expression as function of stress invariant\n",
    "eta_lin       = f_ani**(n_lin-1)*(2*C_lin)**(-1)*Tii**(1-n_lin) * df**(m_lin)\n",
    "eta_ve  = (eta_el**-1 + eta_lin**-1)**-1\n",
    "\n",
    "# 3. Derivatives of viscosity w.r.t. stress components\n",
    "detadtxx = eta_ve.diff(Txx)\n",
    "detadtyy = eta_ve.diff(Tyy)\n",
    "detadtxy = eta_ve.diff(Txy)\n",
    "detadtxx = detadtxx.subs(eta_ve,'eta_ve').subs(eta_ve,'eta_lin').subs(eta_ve,'eta_pwl').subs(1/2*Txx**2 + Txy**2*a**2 + 1/2*Tyy**2 + 1/2*Tzz**2,'Jii').subs(f_ani.diff(Txx),'dfanidTxx').subs(f_ani,'f_ani').subs(df.diff(Txx),'ddgdTxx').subs(df,'dg').simplify()\n",
    "detadtyy = detadtyy.subs(eta_ve,'eta_ve').subs(1/2*Txx**2 + Txy**2*a**2 + 1/2*Tyy**2 + 1/2*Tzz**2,'Jii').subs(f_ani.diff(Tyy),'dfanidTyy').subs(f_ani,'f_ani').simplify()\n",
    "detadtxy = detadtxy.subs(eta_ve,'eta_ve').subs(1/2*Txx**2 + Txy**2*a**2 + 1/2*Tyy**2 + 1/2*Tzz**2,'Jii').subs(f_ani.diff(Txy),'dfanidTxy').subs(f_ani,'f_ani').simplify()\n",
    "\n",
    "display(detadtxx)"
   ],
   "outputs": [
    {
     "output_type": "display_data",
     "data": {
      "text/latex": [
       "$\\displaystyle 1.0 C_{lin} Jii^{\\frac{n_{lin}}{2} - \\frac{3}{2}} dg^{- m_{lin} - 1} \\eta_{ve}^{2} f_{ani}^{1 - n_{lin}} \\left(2.0 Jii ddgdTxx m_{lin} - 2.0 Txx dg n_{lin} + 2.0 Txx dg - 1.0 Tyy dg n_{lin} + 1.0 Tyy dg\\right)$"
      ],
      "text/plain": [
       "1.0*C_lin*Jii**(n_lin/2 - 3/2)*dg**(-m_lin - 1)*eta_ve**2*f_ani**(1 - n_lin)*(2.0*Jii*ddgdTxx*m_lin - 2.0*Txx*dg*n_lin + 2.0*Txx*dg - 1.0*Tyy*dg*n_lin + 1.0*Tyy*dg)"
      ]
     },
     "metadata": {}
    }
   ],
   "metadata": {}
  },
  {
   "cell_type": "code",
   "execution_count": 75,
   "source": [
    "# Evaluate sensitivity of grain size to tau\n",
    "Ared,dg0,dt,Agro,p = symbols('Ared,dg0,dt,Agro,p')\n",
    "Eii_pwl   = f_ani**(-n_pwl) * C_pwl * Tii**(n_pwl);        \n",
    "Wpwl      = f_ani*Eii_pwl/Tii*( Exx/Gxx*Txx**2 + Eyy/Gyy*Tyy**2 + Ezz/Gzz*Tzz**2 + 2*Exy/Gxy*Txy**2)\n",
    "dred      =-Wpwl*dg**2*Ared\n",
    "dgro      = Agro*dg**(1-p)\n",
    "dg1 = (dg0) + dt*(dred + dgro)"
   ],
   "outputs": [],
   "metadata": {}
  },
  {
   "cell_type": "code",
   "execution_count": null,
   "source": [],
   "outputs": [],
   "metadata": {}
  }
 ],
 "metadata": {
  "orig_nbformat": 4,
  "language_info": {
   "name": "python",
   "version": "3.7.4",
   "mimetype": "text/x-python",
   "codemirror_mode": {
    "name": "ipython",
    "version": 3
   },
   "pygments_lexer": "ipython3",
   "nbconvert_exporter": "python",
   "file_extension": ".py"
  },
  "kernelspec": {
   "name": "python3",
   "display_name": "Python 3.7.4 64-bit ('base': conda)"
  },
  "interpreter": {
   "hash": "4842cc9a1b6e840909d063bd925fa46819061d81091593ee4396a8e6a87eeeef"
  }
 },
 "nbformat": 4,
 "nbformat_minor": 2
}